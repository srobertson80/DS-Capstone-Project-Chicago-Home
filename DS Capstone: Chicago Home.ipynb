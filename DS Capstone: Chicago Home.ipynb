{
    "cells": [
        {
            "cell_type": "markdown",
            "metadata": {
                "collapsed": true
            },
            "source": "INTRODUCTION/BUSINESS PROBLEM\n\nA real estate broker has a client moving to Chicago.  The client wants to purchase a $4-5 million house in a neighborhood with lots of venues (i.e. restaurants, schools, parks, coffee shops) within a short driving or walking distance.\n\nThe real estate broker wants to provide her client with the following:\n-A list of available homes in different Chicago neighborhoods \n-The top 10 homes to view and and provide relevant info on these homes\n-A list of venues located within 5 miles of the home location\n\n\nDATA\n\nPossible sources I will use to obtain necessary data to properly present findings to the agent's in order to satisfy her client's requirements:\n\n    -Zillow API or another real estate API to gather available homes and data in Chicago\n\t-https://chicagorealtor.com/realtor-tools/neighborhood-information/neighborhood-profiles/\n\t-https://chicagorealtor.com/realtor-tools/neighborhood-information/chicago-neighborhood-initiative/\n\t-use Foursquare to generate the top 10 venues within 5 miles of home location"
        }
    ],
    "metadata": {
        "kernelspec": {
            "display_name": "Python 3.6",
            "language": "python",
            "name": "python3"
        },
        "language_info": {
            "codemirror_mode": {
                "name": "ipython",
                "version": 3
            },
            "file_extension": ".py",
            "mimetype": "text/x-python",
            "name": "python",
            "nbconvert_exporter": "python",
            "pygments_lexer": "ipython3",
            "version": "3.6.8"
        }
    },
    "nbformat": 4,
    "nbformat_minor": 1
}